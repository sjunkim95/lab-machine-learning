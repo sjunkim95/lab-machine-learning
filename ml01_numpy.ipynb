{
  "nbformat": 4,
  "nbformat_minor": 0,
  "metadata": {
    "colab": {
      "provenance": [],
      "authorship_tag": "ABX9TyM6JqU5usWA9rN3T5VFZtiB",
      "include_colab_link": true
    },
    "kernelspec": {
      "name": "python3",
      "display_name": "Python 3"
    },
    "language_info": {
      "name": "python"
    }
  },
  "cells": [
    {
      "cell_type": "markdown",
      "metadata": {
        "id": "view-in-github",
        "colab_type": "text"
      },
      "source": [
        "<a href=\"https://colab.research.google.com/github/sjunkim95/lab-machine-learning/blob/main/ml01_numpy.ipynb\" target=\"_parent\"><img src=\"https://colab.research.google.com/assets/colab-badge.svg\" alt=\"Open In Colab\"/></a>"
      ]
    },
    {
      "cell_type": "code",
      "execution_count": null,
      "metadata": {
        "id": "lngICGeFO_Bp"
      },
      "outputs": [],
      "source": [
        "import numpy as np\n",
        "import pandas as pd\n",
        "import matplotlib.pyplot as plt\n",
        "import seaborn as sns"
      ]
    },
    {
      "cell_type": "markdown",
      "source": [
        "# `np.ndarray` 속성"
      ],
      "metadata": {
        "id": "1ex5WKEqPSfa"
      }
    },
    {
      "cell_type": "code",
      "source": [
        "arr = np.ones(shape=(2, 3)) # 모든 원소가 1.0인 (2, 3) 모양의 배열을 생성."
      ],
      "metadata": {
        "id": "6GmjCduvPX06"
      },
      "execution_count": null,
      "outputs": []
    },
    {
      "cell_type": "code",
      "source": [
        "print(arr)"
      ],
      "metadata": {
        "colab": {
          "base_uri": "https://localhost:8080/"
        },
        "id": "D1bF-g2hPWXY",
        "outputId": "7f90ca27-8e8d-44fd-b0df-441e91fc6d60"
      },
      "execution_count": null,
      "outputs": [
        {
          "output_type": "stream",
          "name": "stdout",
          "text": [
            "[[1. 1. 1.]\n",
            " [1. 1. 1.]]\n"
          ]
        }
      ]
    },
    {
      "cell_type": "code",
      "source": [
        "arr.dtype # 배열 원소의 데이터 타입"
      ],
      "metadata": {
        "colab": {
          "base_uri": "https://localhost:8080/"
        },
        "id": "hQCWMpL_QFzw",
        "outputId": "6cb029ee-497a-4021-96c8-e3a4df0beb7f"
      },
      "execution_count": null,
      "outputs": [
        {
          "output_type": "execute_result",
          "data": {
            "text/plain": [
              "dtype('float64')"
            ]
          },
          "metadata": {},
          "execution_count": 54
        }
      ]
    },
    {
      "cell_type": "code",
      "source": [
        "arr.shape # 배열의 모양: 배열의 각 축(axis)을 따라서 있는 원소의 개수"
      ],
      "metadata": {
        "colab": {
          "base_uri": "https://localhost:8080/"
        },
        "id": "8MAnen2kQUKL",
        "outputId": "31d20115-84bf-4a4f-d078-dcc5a1230ce5"
      },
      "execution_count": null,
      "outputs": [
        {
          "output_type": "execute_result",
          "data": {
            "text/plain": [
              "(2, 3)"
            ]
          },
          "metadata": {},
          "execution_count": 55
        }
      ]
    },
    {
      "cell_type": "code",
      "source": [
        "arr.ndim # 배열의 차원(dimension): 배열에서 축의 개수"
      ],
      "metadata": {
        "colab": {
          "base_uri": "https://localhost:8080/"
        },
        "id": "5nPp0p6bQ1-2",
        "outputId": "92aa302f-4de1-49c7-9414-ca02dd2a8b31"
      },
      "execution_count": null,
      "outputs": [
        {
          "output_type": "execute_result",
          "data": {
            "text/plain": [
              "2"
            ]
          },
          "metadata": {},
          "execution_count": 56
        }
      ]
    },
    {
      "cell_type": "code",
      "source": [
        "arr.size # 크기: 배열의 원소 전체 개수"
      ],
      "metadata": {
        "colab": {
          "base_uri": "https://localhost:8080/"
        },
        "id": "I0HBmjtAROLc",
        "outputId": "cde53ced-ad2a-489a-b5ff-492a6d0b7f74"
      },
      "execution_count": null,
      "outputs": [
        {
          "output_type": "execute_result",
          "data": {
            "text/plain": [
              "6"
            ]
          },
          "metadata": {},
          "execution_count": 57
        }
      ]
    },
    {
      "cell_type": "code",
      "source": [
        "arr = np.arange(10)\n",
        "print(arr)\n",
        "print('dtype: ', arr.dtype)\n",
        "print('shape: ', arr.shape)\n",
        "print('ndim: ', arr.ndim)\n",
        "print('size: ', arr.size)"
      ],
      "metadata": {
        "colab": {
          "base_uri": "https://localhost:8080/"
        },
        "id": "QVcNA3yuRgJ_",
        "outputId": "81d96144-2575-4bc2-ffcb-5a99ec68b891"
      },
      "execution_count": null,
      "outputs": [
        {
          "output_type": "stream",
          "name": "stdout",
          "text": [
            "[0 1 2 3 4 5 6 7 8 9]\n",
            "dtype:  int64\n",
            "shape:  (10,)\n",
            "ndim:  1\n",
            "size:  10\n"
          ]
        }
      ]
    },
    {
      "cell_type": "markdown",
      "source": [
        "# indexing\n",
        "\n",
        "* Python list: `list[i], list[i][j], list[i][j][k], ...`\n",
        "* numpy ndarray\n",
        "    * `array[i], array[i][j], array[i][j][k], ...`\n",
        "    * `array[i], array[i, j], array[i, j, k], ...`\n"
      ],
      "metadata": {
        "id": "ayWfNuqqR8RM"
      }
    },
    {
      "cell_type": "code",
      "source": [
        "arr = np.arange(1, 13).reshape((3, 4))\n",
        "print(arr)"
      ],
      "metadata": {
        "colab": {
          "base_uri": "https://localhost:8080/"
        },
        "id": "4pedCw24R990",
        "outputId": "1782610e-af60-4056-fc52-0b7decaf199c"
      },
      "execution_count": null,
      "outputs": [
        {
          "output_type": "stream",
          "name": "stdout",
          "text": [
            "[[ 1  2  3  4]\n",
            " [ 5  6  7  8]\n",
            " [ 9 10 11 12]]\n"
          ]
        }
      ]
    },
    {
      "cell_type": "code",
      "source": [
        "arr[0]"
      ],
      "metadata": {
        "colab": {
          "base_uri": "https://localhost:8080/"
        },
        "id": "fBMeUF0YS4ip",
        "outputId": "1a793d60-a0ba-4b22-a2e1-c277835588c4"
      },
      "execution_count": null,
      "outputs": [
        {
          "output_type": "execute_result",
          "data": {
            "text/plain": [
              "array([1, 2, 3, 4])"
            ]
          },
          "metadata": {},
          "execution_count": 60
        }
      ]
    },
    {
      "cell_type": "code",
      "source": [
        "arr[0, 0]"
      ],
      "metadata": {
        "colab": {
          "base_uri": "https://localhost:8080/"
        },
        "id": "Q5J7PPqrS5Ax",
        "outputId": "1b2f0583-3b30-485f-d063-3a9a820b2200"
      },
      "execution_count": null,
      "outputs": [
        {
          "output_type": "execute_result",
          "data": {
            "text/plain": [
              "1"
            ]
          },
          "metadata": {},
          "execution_count": 61
        }
      ]
    },
    {
      "cell_type": "markdown",
      "source": [
        "# slicing"
      ],
      "metadata": {
        "id": "4uLOPQXATEks"
      }
    },
    {
      "cell_type": "markdown",
      "source": [
        "## 1차원 배열 slicing"
      ],
      "metadata": {
        "id": "ToLLXunGTGgj"
      }
    },
    {
      "cell_type": "code",
      "source": [
        "np.random.seed(1) # seed는 실행된 횟수만 같으면, 같은것이 만들어진다.\n",
        "arr = np.random.randint(100, size=10)\n",
        "print(arr)"
      ],
      "metadata": {
        "colab": {
          "base_uri": "https://localhost:8080/"
        },
        "id": "vutf92CcTI7Y",
        "outputId": "1d14f272-0bfc-49e9-92b8-985203660151"
      },
      "execution_count": null,
      "outputs": [
        {
          "output_type": "stream",
          "name": "stdout",
          "text": [
            "[37 12 72  9 75  5 79 64 16  1]\n"
          ]
        }
      ]
    },
    {
      "cell_type": "code",
      "source": [
        "arr[2:6] # [2, 6) 범위의 원소들로 이루어진 부분집합(ndarray)"
      ],
      "metadata": {
        "colab": {
          "base_uri": "https://localhost:8080/"
        },
        "id": "FcXhfydrTiid",
        "outputId": "0edd75c2-ab6e-4276-d845-d0f1e6beaa93"
      },
      "execution_count": null,
      "outputs": [
        {
          "output_type": "execute_result",
          "data": {
            "text/plain": [
              "array([72,  9, 75,  5])"
            ]
          },
          "metadata": {},
          "execution_count": 63
        }
      ]
    },
    {
      "cell_type": "code",
      "source": [
        "arr[:3] # 첫 3개 원소 자르기"
      ],
      "metadata": {
        "colab": {
          "base_uri": "https://localhost:8080/"
        },
        "id": "wkbNhD2aTSyb",
        "outputId": "84bd4309-d253-4378-8941-0d243e44c4cb"
      },
      "execution_count": null,
      "outputs": [
        {
          "output_type": "execute_result",
          "data": {
            "text/plain": [
              "array([37, 12, 72])"
            ]
          },
          "metadata": {},
          "execution_count": 64
        }
      ]
    },
    {
      "cell_type": "code",
      "source": [
        "arr[-3:] # 마지막 3개 원소 자르기"
      ],
      "metadata": {
        "colab": {
          "base_uri": "https://localhost:8080/"
        },
        "id": "A9fSzjRYT5hf",
        "outputId": "9df32bfc-aded-40ea-fca5-64fcff6bc99d"
      },
      "execution_count": null,
      "outputs": [
        {
          "output_type": "execute_result",
          "data": {
            "text/plain": [
              "array([64, 16,  1])"
            ]
          },
          "metadata": {},
          "execution_count": 65
        }
      ]
    },
    {
      "cell_type": "markdown",
      "source": [
        "## 2차원 배열 slicing"
      ],
      "metadata": {
        "id": "kkNGHJbzUKqK"
      }
    },
    {
      "cell_type": "code",
      "source": [
        "arr = np.random.randint(100, size=(4, 5))\n",
        "print(arr)"
      ],
      "metadata": {
        "colab": {
          "base_uri": "https://localhost:8080/"
        },
        "id": "qtk2IWEIUMwY",
        "outputId": "9ee2de98-c0c2-459e-dd96-79d2e53f382f"
      },
      "execution_count": null,
      "outputs": [
        {
          "output_type": "stream",
          "name": "stdout",
          "text": [
            "[[76 71  6 25 50]\n",
            " [20 18 84 11 28]\n",
            " [29 14 50 68 87]\n",
            " [87 94 96 86 13]]\n"
          ]
        }
      ]
    },
    {
      "cell_type": "code",
      "source": [
        "# 첫 2개 row를 선택, 모든 column을 선택\n",
        "arr[:2, :]"
      ],
      "metadata": {
        "colab": {
          "base_uri": "https://localhost:8080/"
        },
        "id": "1e0QweFhUjHe",
        "outputId": "b77d640e-c41e-46f3-8643-c519317d7b5d"
      },
      "execution_count": null,
      "outputs": [
        {
          "output_type": "execute_result",
          "data": {
            "text/plain": [
              "array([[76, 71,  6, 25, 50],\n",
              "       [20, 18, 84, 11, 28]])"
            ]
          },
          "metadata": {},
          "execution_count": 67
        }
      ]
    },
    {
      "cell_type": "code",
      "source": [
        "arr[:2]"
      ],
      "metadata": {
        "colab": {
          "base_uri": "https://localhost:8080/"
        },
        "id": "iN-7PbdaU5lH",
        "outputId": "4209064d-64df-4d59-95b7-25d56fe7fdf1"
      },
      "execution_count": null,
      "outputs": [
        {
          "output_type": "execute_result",
          "data": {
            "text/plain": [
              "array([[76, 71,  6, 25, 50],\n",
              "       [20, 18, 84, 11, 28]])"
            ]
          },
          "metadata": {},
          "execution_count": 68
        }
      ]
    },
    {
      "cell_type": "code",
      "source": [
        "# 첫 2개 row을 선택, 첫 3개 column을 선택\n",
        "arr[:2, :3]"
      ],
      "metadata": {
        "colab": {
          "base_uri": "https://localhost:8080/"
        },
        "id": "5_GKkNx1VD9t",
        "outputId": "4336bf32-91d3-401b-ed4b-314d955985f1"
      },
      "execution_count": null,
      "outputs": [
        {
          "output_type": "execute_result",
          "data": {
            "text/plain": [
              "array([[76, 71,  6],\n",
              "       [20, 18, 84]])"
            ]
          },
          "metadata": {},
          "execution_count": 69
        }
      ]
    },
    {
      "cell_type": "code",
      "source": [
        "arr[:1, :1]"
      ],
      "metadata": {
        "colab": {
          "base_uri": "https://localhost:8080/"
        },
        "id": "pqtXTMxvVunC",
        "outputId": "2fd4ae8e-2557-45f7-c440-37527726b78e"
      },
      "execution_count": null,
      "outputs": [
        {
          "output_type": "execute_result",
          "data": {
            "text/plain": [
              "array([[76]])"
            ]
          },
          "metadata": {},
          "execution_count": 70
        }
      ]
    },
    {
      "cell_type": "markdown",
      "source": [
        "1차원 배열 슬라이싱시 -> 1차원\n",
        "2차원 배열 슬라이싱시 -> 2차원\n",
        "3차원 배열 슬라이싱시 -> 3차원\n",
        "\n",
        "하지만, indexing은 차원이 줄어듦"
      ],
      "metadata": {
        "id": "02LxEoQXV6a-"
      }
    },
    {
      "cell_type": "markdown",
      "source": [
        "# Shape 변경\n",
        "\n",
        "* `np.ndarray.reshape(shape)`\n",
        "* `np.ndarray.ravel()`\n",
        "* `np.ndarray.flatten()`\n",
        "* `np.newaxis` 속성 이용\n"
      ],
      "metadata": {
        "id": "55SdEVyOzUXS"
      }
    },
    {
      "cell_type": "markdown",
      "source": [
        "## reshape"
      ],
      "metadata": {
        "id": "M16dLaKBzV0e"
      }
    },
    {
      "cell_type": "code",
      "source": [
        "arr_1d = np.arange(12)\n",
        "print(arr_1d)"
      ],
      "metadata": {
        "colab": {
          "base_uri": "https://localhost:8080/"
        },
        "id": "4Fakw0drzW7c",
        "outputId": "da8f2e0a-7dbb-4bef-bc33-5c5824457b4c"
      },
      "execution_count": null,
      "outputs": [
        {
          "output_type": "stream",
          "name": "stdout",
          "text": [
            "[ 0  1  2  3  4  5  6  7  8  9 10 11]\n"
          ]
        }
      ]
    },
    {
      "cell_type": "code",
      "source": [
        "# arr_1d 배열을 (4, 3) shape의 2차원 배열로 변환 -> 모양이 변환된 새로운 배열이 리턴.\n",
        "arr_2d = arr_1d.reshape((4, 3))\n",
        "print(arr_2d)"
      ],
      "metadata": {
        "colab": {
          "base_uri": "https://localhost:8080/"
        },
        "id": "e4iCrTflzW92",
        "outputId": "2de269e5-5c98-4db1-83cf-6369db7806a7"
      },
      "execution_count": null,
      "outputs": [
        {
          "output_type": "stream",
          "name": "stdout",
          "text": [
            "[[ 0  1  2]\n",
            " [ 3  4  5]\n",
            " [ 6  7  8]\n",
            " [ 9 10 11]]\n"
          ]
        }
      ]
    },
    {
      "cell_type": "code",
      "source": [
        "# reshape을 할 때 자동으로 계산될 수 있는 차원 값에는 -1을 사용할 수 있음.\n",
        "arr_2d = arr_1d.reshape((3, -1))\n",
        "print(arr_2d)"
      ],
      "metadata": {
        "colab": {
          "base_uri": "https://localhost:8080/"
        },
        "id": "FrGR9ucNzdi0",
        "outputId": "97b1bea6-dc08-4789-a1c6-fd538b009c3e"
      },
      "execution_count": null,
      "outputs": [
        {
          "output_type": "stream",
          "name": "stdout",
          "text": [
            "[[ 0  1  2  3]\n",
            " [ 4  5  6  7]\n",
            " [ 8  9 10 11]]\n"
          ]
        }
      ]
    },
    {
      "cell_type": "code",
      "source": [
        "arr_2d = arr_1d.reshape((-1, 4))\n",
        "print(arr_2d)"
      ],
      "metadata": {
        "colab": {
          "base_uri": "https://localhost:8080/"
        },
        "id": "g0FA8zRuzdlc",
        "outputId": "3842faf8-8e14-427b-f8a0-a6d3945ce1ce"
      },
      "execution_count": null,
      "outputs": [
        {
          "output_type": "stream",
          "name": "stdout",
          "text": [
            "[[ 0  1  2  3]\n",
            " [ 4  5  6  7]\n",
            " [ 8  9 10 11]]\n"
          ]
        }
      ]
    },
    {
      "cell_type": "code",
      "source": [
        "arr_2d.reshape((3*4,))  # reshape(3*4)"
      ],
      "metadata": {
        "colab": {
          "base_uri": "https://localhost:8080/"
        },
        "id": "n2ZJ30bszdpO",
        "outputId": "be996768-f56c-4904-ccc6-7ec9d72ba9d6"
      },
      "execution_count": null,
      "outputs": [
        {
          "output_type": "execute_result",
          "data": {
            "text/plain": [
              "array([ 0,  1,  2,  3,  4,  5,  6,  7,  8,  9, 10, 11])"
            ]
          },
          "metadata": {},
          "execution_count": 75
        }
      ]
    },
    {
      "cell_type": "code",
      "source": [
        "arr_2d.reshape((-1,))"
      ],
      "metadata": {
        "colab": {
          "base_uri": "https://localhost:8080/"
        },
        "id": "XvxejtPZzXAc",
        "outputId": "777c3e2e-8f4d-4296-98ee-7b748dd16631"
      },
      "execution_count": null,
      "outputs": [
        {
          "output_type": "execute_result",
          "data": {
            "text/plain": [
              "array([ 0,  1,  2,  3,  4,  5,  6,  7,  8,  9, 10, 11])"
            ]
          },
          "metadata": {},
          "execution_count": 76
        }
      ]
    },
    {
      "cell_type": "markdown",
      "source": [
        "## `ravel` vs `flatten`\n",
        "\n",
        "* `ravel`: 1차원으로 변환된 배열의 **view**를 리턴. 배열은 1개이고, 단지 모양만 다르게 보여주는 것.\n",
        "* `flatten`: 1차원으로 변환된 배열의 **복사본**을 리턴. 원본 배열과는 별개의 새로운 배열이 생성됨.\n"
      ],
      "metadata": {
        "id": "6HOGQbVKzglb"
      }
    },
    {
      "cell_type": "code",
      "source": [
        "print(arr_2d)"
      ],
      "metadata": {
        "colab": {
          "base_uri": "https://localhost:8080/"
        },
        "id": "SGyVPi20zh3a",
        "outputId": "d4417d26-405c-4aa7-a481-a967fcb76820"
      },
      "execution_count": null,
      "outputs": [
        {
          "output_type": "stream",
          "name": "stdout",
          "text": [
            "[[ 0  1  2  3]\n",
            " [ 4  5  6  7]\n",
            " [ 8  9 10 11]]\n"
          ]
        }
      ]
    },
    {
      "cell_type": "code",
      "source": [
        "flattened = arr_2d.flatten()"
      ],
      "metadata": {
        "id": "xpOayX2azh8L"
      },
      "execution_count": null,
      "outputs": []
    },
    {
      "cell_type": "code",
      "source": [
        "print(flattened)"
      ],
      "metadata": {
        "colab": {
          "base_uri": "https://localhost:8080/"
        },
        "id": "_DnuyHnUziBf",
        "outputId": "903e8a8b-26f1-4756-ca5c-835ccf0c6dc0"
      },
      "execution_count": null,
      "outputs": [
        {
          "output_type": "stream",
          "name": "stdout",
          "text": [
            "[ 0  1  2  3  4  5  6  7  8  9 10 11]\n"
          ]
        }
      ]
    },
    {
      "cell_type": "code",
      "source": [
        "print(arr_2d)"
      ],
      "metadata": {
        "colab": {
          "base_uri": "https://localhost:8080/"
        },
        "id": "zsoXcvJwziD0",
        "outputId": "b7fcd697-47a1-4d9d-b92d-b6575ae8a77f"
      },
      "execution_count": null,
      "outputs": [
        {
          "output_type": "stream",
          "name": "stdout",
          "text": [
            "[[ 0  1  2  3]\n",
            " [ 4  5  6  7]\n",
            " [ 8  9 10 11]]\n"
          ]
        }
      ]
    },
    {
      "cell_type": "code",
      "source": [
        "flattened[0] = 100\n",
        "print(flattened)\n",
        "print(arr_2d)  # 1차원으로 변환된 배열의 원소를 변경하는 것이 2차원 배열에 영향을 미치지 않음."
      ],
      "metadata": {
        "colab": {
          "base_uri": "https://localhost:8080/"
        },
        "id": "8-tJem6bzkfL",
        "outputId": "5971204c-3600-433f-ee10-1a2520aa68d3"
      },
      "execution_count": null,
      "outputs": [
        {
          "output_type": "stream",
          "name": "stdout",
          "text": [
            "[100   1   2   3   4   5   6   7   8   9  10  11]\n",
            "[[ 0  1  2  3]\n",
            " [ 4  5  6  7]\n",
            " [ 8  9 10 11]]\n"
          ]
        }
      ]
    },
    {
      "cell_type": "code",
      "source": [
        "raveled = arr_2d.ravel()\n",
        "print(raveled)\n",
        "print(arr_2d)"
      ],
      "metadata": {
        "colab": {
          "base_uri": "https://localhost:8080/"
        },
        "id": "dOG_VmYlzlu8",
        "outputId": "2cb69271-12b4-4824-fb23-fddfbd1e3024"
      },
      "execution_count": null,
      "outputs": [
        {
          "output_type": "stream",
          "name": "stdout",
          "text": [
            "[ 0  1  2  3  4  5  6  7  8  9 10 11]\n",
            "[[ 0  1  2  3]\n",
            " [ 4  5  6  7]\n",
            " [ 8  9 10 11]]\n"
          ]
        }
      ]
    },
    {
      "cell_type": "code",
      "source": [
        "raveled[0] = 100\n",
        "print(raveled)\n",
        "print(arr_2d)  # 1차원 배열의 수정 내용은 원본 2차원 배열에도 적용."
      ],
      "metadata": {
        "colab": {
          "base_uri": "https://localhost:8080/"
        },
        "id": "NAkOjj7vzlxp",
        "outputId": "6a42c2b4-11d6-4e0d-bb6a-d457dab4a296"
      },
      "execution_count": null,
      "outputs": [
        {
          "output_type": "stream",
          "name": "stdout",
          "text": [
            "[100   1   2   3   4   5   6   7   8   9  10  11]\n",
            "[[100   1   2   3]\n",
            " [  4   5   6   7]\n",
            " [  8   9  10  11]]\n"
          ]
        }
      ]
    },
    {
      "cell_type": "markdown",
      "source": [
        "## `np.newaxis` 속성을 사용한 차원 늘리기"
      ],
      "metadata": {
        "id": "UU2GE0Msznly"
      }
    },
    {
      "cell_type": "code",
      "source": [
        "arr = np.arange(5) # (5,) shape의 1차원 배열\n",
        "print(arr)\n",
        "print(arr.ndim)\n",
        "print(arr.shape)"
      ],
      "metadata": {
        "colab": {
          "base_uri": "https://localhost:8080/"
        },
        "id": "gsVaYb0Q0W14",
        "outputId": "30e7f2ca-4609-44ad-f238-343c249c9093"
      },
      "execution_count": null,
      "outputs": [
        {
          "output_type": "stream",
          "name": "stdout",
          "text": [
            "[0 1 2 3 4]\n",
            "1\n",
            "(5,)\n"
          ]
        }
      ]
    },
    {
      "cell_type": "code",
      "source": [
        "# 배열 arr을 (1, 5) shape의 2차원 배열로 변환.\n",
        "result = arr.reshape((1, -1)) # (1, 5)\n",
        "print(result)"
      ],
      "metadata": {
        "colab": {
          "base_uri": "https://localhost:8080/"
        },
        "id": "cnZTjBo_0srm",
        "outputId": "ac006cf3-c302-4aaa-aad5-8940be023eec"
      },
      "execution_count": null,
      "outputs": [
        {
          "output_type": "stream",
          "name": "stdout",
          "text": [
            "[[0 1 2 3 4]]\n"
          ]
        }
      ]
    },
    {
      "cell_type": "code",
      "source": [
        "result = arr[np.newaxis, :]\n",
        "print(result)"
      ],
      "metadata": {
        "colab": {
          "base_uri": "https://localhost:8080/"
        },
        "id": "kpczUmis1W4s",
        "outputId": "b84f66ad-176f-4f6c-d62a-cbe308b81ea9"
      },
      "execution_count": null,
      "outputs": [
        {
          "output_type": "stream",
          "name": "stdout",
          "text": [
            "[[0 1 2 3 4]]\n"
          ]
        }
      ]
    },
    {
      "cell_type": "code",
      "source": [
        "# 배열 arr을 (5, 1) shape의 2차원 배열 변환\n",
        "result = arr.reshape((-1, 1)) # (5, 1)\n",
        "print(result) # 컬럼의 갯수가 1개로 고정된 것이고... 행의 갯수는 1차원 배열의 원소의 갯수로 자동으로 배정될 것."
      ],
      "metadata": {
        "colab": {
          "base_uri": "https://localhost:8080/"
        },
        "id": "yPq10yKe1wKz",
        "outputId": "2d31c0a3-d68d-4ce8-b3b1-8fa4e0fb690a"
      },
      "execution_count": null,
      "outputs": [
        {
          "output_type": "stream",
          "name": "stdout",
          "text": [
            "[[0]\n",
            " [1]\n",
            " [2]\n",
            " [3]\n",
            " [4]]\n"
          ]
        }
      ]
    },
    {
      "cell_type": "code",
      "source": [
        "result = arr[:, np.newaxis]\n",
        "print(result)"
      ],
      "metadata": {
        "colab": {
          "base_uri": "https://localhost:8080/"
        },
        "id": "Q3hH9u8K2bHa",
        "outputId": "04843c76-756f-4606-9046-4e9297ffd58d"
      },
      "execution_count": null,
      "outputs": [
        {
          "output_type": "stream",
          "name": "stdout",
          "text": [
            "[[0]\n",
            " [1]\n",
            " [2]\n",
            " [3]\n",
            " [4]]\n"
          ]
        }
      ]
    },
    {
      "cell_type": "markdown",
      "source": [
        "# concatenate\n",
        "\n",
        "* `np.concatenate([array1, array2, ...], axis)`: 특정 축(axis) 방향으로 이어 붙이기.\n",
        "* `np.r_[array1, array2]`: 행(row) 이어 붙이기.\n",
        "* `np.c_[array1, array2]`: 열(column) 이어 붙이기."
      ],
      "metadata": {
        "id": "gXSI47qy3CZS"
      }
    },
    {
      "cell_type": "code",
      "source": [
        "a1 = np.arange(6).reshape((2, 3)) # (2, 3) shape\n",
        "print(a1)"
      ],
      "metadata": {
        "colab": {
          "base_uri": "https://localhost:8080/"
        },
        "id": "EHouNlrA3uZ1",
        "outputId": "f2a8930d-c41a-4083-e26b-850fdad73df5"
      },
      "execution_count": null,
      "outputs": [
        {
          "output_type": "stream",
          "name": "stdout",
          "text": [
            "[[0 1 2]\n",
            " [3 4 5]]\n"
          ]
        }
      ]
    },
    {
      "cell_type": "code",
      "source": [
        "a2 = np.array([[10, 20, 30]]) # (1, 3) shape\n",
        "print(a2)"
      ],
      "metadata": {
        "colab": {
          "base_uri": "https://localhost:8080/"
        },
        "id": "74CBUBXi36Hu",
        "outputId": "0f6e2171-559f-4915-9e30-d92672d9f0e3"
      },
      "execution_count": null,
      "outputs": [
        {
          "output_type": "stream",
          "name": "stdout",
          "text": [
            "[[10 20 30]]\n"
          ]
        }
      ]
    },
    {
      "cell_type": "code",
      "source": [
        "result = np.concatenate([a1, a2], axis=0) # concatenate 설명보면, list 배열들의 tuple임.\n",
        "# axis = 0 은, 생략해도 된다.\n",
        "print(result) # axis=0이, 세로 방향..."
      ],
      "metadata": {
        "colab": {
          "base_uri": "https://localhost:8080/"
        },
        "id": "7XW2L3xc4XV3",
        "outputId": "9d4f9e30-d33a-4586-be0f-c81cf62ed90d"
      },
      "execution_count": null,
      "outputs": [
        {
          "output_type": "stream",
          "name": "stdout",
          "text": [
            "[[ 0  1  2]\n",
            " [ 3  4  5]\n",
            " [10 20 30]]\n"
          ]
        }
      ]
    },
    {
      "cell_type": "code",
      "source": [
        "a3 = np.array([[100], [200]])\n",
        "print(a3)"
      ],
      "metadata": {
        "colab": {
          "base_uri": "https://localhost:8080/"
        },
        "id": "hTjZD0xf41k8",
        "outputId": "d174af81-9b92-4f0e-c1e7-01672a9ee834"
      },
      "execution_count": null,
      "outputs": [
        {
          "output_type": "stream",
          "name": "stdout",
          "text": [
            "[[100]\n",
            " [200]]\n"
          ]
        }
      ]
    },
    {
      "cell_type": "code",
      "source": [
        "result = np.concatenate([a1, a3], axis=1)\n",
        "print(result)"
      ],
      "metadata": {
        "colab": {
          "base_uri": "https://localhost:8080/"
        },
        "id": "QKudNUnm5P-D",
        "outputId": "8fbae433-3f1d-42fb-af77-7d59061b6cc0"
      },
      "execution_count": null,
      "outputs": [
        {
          "output_type": "stream",
          "name": "stdout",
          "text": [
            "[[  0   1   2 100]\n",
            " [  3   4   5 200]]\n"
          ]
        }
      ]
    },
    {
      "cell_type": "code",
      "source": [
        "np.r_[a1, a2]"
      ],
      "metadata": {
        "colab": {
          "base_uri": "https://localhost:8080/"
        },
        "id": "M3_BdqWm5m_w",
        "outputId": "f34ba64f-871a-442f-b353-2c4807563e1b"
      },
      "execution_count": null,
      "outputs": [
        {
          "output_type": "execute_result",
          "data": {
            "text/plain": [
              "array([[ 0,  1,  2],\n",
              "       [ 3,  4,  5],\n",
              "       [10, 20, 30]])"
            ]
          },
          "metadata": {},
          "execution_count": 94
        }
      ]
    },
    {
      "cell_type": "code",
      "source": [
        "np.c_[a1, a3]"
      ],
      "metadata": {
        "colab": {
          "base_uri": "https://localhost:8080/"
        },
        "id": "A6trlbXA6ADi",
        "outputId": "6161c3a8-8353-4135-963c-69c8d0dafa53"
      },
      "execution_count": null,
      "outputs": [
        {
          "output_type": "execute_result",
          "data": {
            "text/plain": [
              "array([[  0,   1,   2, 100],\n",
              "       [  3,   4,   5, 200]])"
            ]
          },
          "metadata": {},
          "execution_count": 95
        }
      ]
    },
    {
      "cell_type": "markdown",
      "source": [
        "# Broadcasting(브로드캐스팅)\n",
        "\n",
        "* `np.ndarray`의 산술 연산(`+, -, *, /, ...`)은 같은 위치(인덱스)의 원소들끼리 (element-wise) 연산이 수행됨.\n",
        "* 서로 다른 shape을 갖는 배열들끼리 산술 연산을 가능한 경우가 있음.\n",
        "    * broadcast"
      ],
      "metadata": {
        "id": "wzdXG3Hb6Rde"
      }
    },
    {
      "cell_type": "code",
      "source": [
        "a1 = np.array([1, 2]) # (2,) shape의 1차원 배열\n",
        "a2 = np.array([3, 4, 5]) # (3,) shape의 1차원 배열\n",
        "# a1 + a2 #> ValueError 발생"
      ],
      "metadata": {
        "id": "ekK3iO4D7hNY"
      },
      "execution_count": null,
      "outputs": []
    },
    {
      "cell_type": "markdown",
      "source": [
        "## ndarray와 scalar의 연산"
      ],
      "metadata": {
        "id": "oGqyIi298IHG"
      }
    },
    {
      "cell_type": "code",
      "source": [
        "a1 + 10"
      ],
      "metadata": {
        "colab": {
          "base_uri": "https://localhost:8080/"
        },
        "id": "GL7hef4T8Vor",
        "outputId": "32de6a3b-dbd3-4327-fddc-a748d76fb2a0"
      },
      "execution_count": null,
      "outputs": [
        {
          "output_type": "execute_result",
          "data": {
            "text/plain": [
              "array([11, 12])"
            ]
          },
          "metadata": {},
          "execution_count": 97
        }
      ]
    },
    {
      "cell_type": "code",
      "source": [
        "a1 = np.array([[1], [2], [3]])\n",
        "print(a1)"
      ],
      "metadata": {
        "colab": {
          "base_uri": "https://localhost:8080/"
        },
        "id": "bg5AJmwy9VuE",
        "outputId": "47703e54-b1f1-4827-c199-12700d22422d"
      },
      "execution_count": null,
      "outputs": [
        {
          "output_type": "stream",
          "name": "stdout",
          "text": [
            "[[1]\n",
            " [2]\n",
            " [3]]\n"
          ]
        }
      ]
    },
    {
      "cell_type": "code",
      "source": [
        "a1 + 10"
      ],
      "metadata": {
        "colab": {
          "base_uri": "https://localhost:8080/"
        },
        "id": "YEZySF0U9WLw",
        "outputId": "fa4e18b6-0fbf-4505-cefa-064e98f0c5eb"
      },
      "execution_count": null,
      "outputs": [
        {
          "output_type": "execute_result",
          "data": {
            "text/plain": [
              "array([[11],\n",
              "       [12],\n",
              "       [13]])"
            ]
          },
          "metadata": {},
          "execution_count": 99
        }
      ]
    },
    {
      "cell_type": "markdown",
      "source": [
        "## 2차원 배열과 1차원 배열 또는 2차원 배열에서의 broadcast"
      ],
      "metadata": {
        "id": "1rfgdS_u-C2b"
      }
    },
    {
      "cell_type": "code",
      "source": [
        "a1 = np.arange(6).reshape((2, -1))  # (2, 3) 2d array\n",
        "print(a1)"
      ],
      "metadata": {
        "id": "f7DU6H1Y9VwZ",
        "colab": {
          "base_uri": "https://localhost:8080/"
        },
        "outputId": "2d1893fe-c585-437d-d183-c96729c0dbbf"
      },
      "execution_count": null,
      "outputs": [
        {
          "output_type": "stream",
          "name": "stdout",
          "text": [
            "[[0 1 2]\n",
            " [3 4 5]]\n"
          ]
        }
      ]
    },
    {
      "cell_type": "code",
      "source": [
        "a2 = np.arange(10, 40, 10)  # (3,) 1d array\n",
        "print(a2)"
      ],
      "metadata": {
        "colab": {
          "base_uri": "https://localhost:8080/"
        },
        "id": "MSJ3eiuGIXOo",
        "outputId": "648507bb-7b1a-4592-bbed-4c25fea128a4"
      },
      "execution_count": null,
      "outputs": [
        {
          "output_type": "stream",
          "name": "stdout",
          "text": [
            "[10 20 30]\n"
          ]
        }
      ]
    },
    {
      "cell_type": "code",
      "source": [
        "a1 + a2\n",
        "# (3,) 1d array --> (1, 3) 2d array --> (2, 3) 2d array broadcast"
      ],
      "metadata": {
        "colab": {
          "base_uri": "https://localhost:8080/"
        },
        "id": "vl8eLQHqIXTP",
        "outputId": "45727084-66a1-4693-d1dc-1350deb2522c"
      },
      "execution_count": null,
      "outputs": [
        {
          "output_type": "execute_result",
          "data": {
            "text/plain": [
              "array([[10, 21, 32],\n",
              "       [13, 24, 35]])"
            ]
          },
          "metadata": {},
          "execution_count": 102
        }
      ]
    },
    {
      "cell_type": "code",
      "source": [
        "a3 = np.array([[10], [20]])  # (2, 1) 2d array\n",
        "a1 + a3"
      ],
      "metadata": {
        "colab": {
          "base_uri": "https://localhost:8080/"
        },
        "id": "TT39VJHRIXYu",
        "outputId": "d86f0b1e-2196-44eb-f940-984624bdb836"
      },
      "execution_count": null,
      "outputs": [
        {
          "output_type": "execute_result",
          "data": {
            "text/plain": [
              "array([[10, 11, 12],\n",
              "       [23, 24, 25]])"
            ]
          },
          "metadata": {},
          "execution_count": 103
        }
      ]
    },
    {
      "cell_type": "markdown",
      "source": [
        "## broadcast 활용\n",
        "\n",
        "* 표준화(standardization): 평균이 0이 되고, 표준편차가 1이 되도록 변수들의 스케일을 변환하는 것.\n",
        "* 정규화(normalization): 최솟값이 0이 되고, 최댓값이 1이 되도록 변수들의 스케일을 변환하는 것. min-max scaling.\n"
      ],
      "metadata": {
        "id": "KdBxDVPBIam-"
      }
    },
    {
      "cell_type": "markdown",
      "source": [
        "### 표준화"
      ],
      "metadata": {
        "id": "7BbcMaWHIb6S"
      }
    },
    {
      "cell_type": "code",
      "source": [
        "x = np.arange(1, 6)\n",
        "print(x)"
      ],
      "metadata": {
        "colab": {
          "base_uri": "https://localhost:8080/"
        },
        "id": "zibeihERIeG_",
        "outputId": "0cbd014c-395b-4417-be09-bd8c5bc8f774"
      },
      "execution_count": null,
      "outputs": [
        {
          "output_type": "stream",
          "name": "stdout",
          "text": [
            "[1 2 3 4 5]\n"
          ]
        }
      ]
    },
    {
      "cell_type": "code",
      "source": [
        "mu = np.mean(x)  # 1d-array 평균\n",
        "print(mu)"
      ],
      "metadata": {
        "colab": {
          "base_uri": "https://localhost:8080/"
        },
        "id": "UOgscBAUIeJ8",
        "outputId": "dad67eb0-ebab-437f-9700-20f8193d19d5"
      },
      "execution_count": null,
      "outputs": [
        {
          "output_type": "stream",
          "name": "stdout",
          "text": [
            "3.0\n"
          ]
        }
      ]
    },
    {
      "cell_type": "code",
      "source": [
        "sigma = np.std(x)  # 1d-array 표준편차\n",
        "print(sigma)"
      ],
      "metadata": {
        "colab": {
          "base_uri": "https://localhost:8080/"
        },
        "id": "sIeTdoAiIeM6",
        "outputId": "ae44c3e7-b552-4bf9-a061-28aa4a491516"
      },
      "execution_count": null,
      "outputs": [
        {
          "output_type": "stream",
          "name": "stdout",
          "text": [
            "1.4142135623730951\n"
          ]
        }
      ]
    },
    {
      "cell_type": "code",
      "source": [
        "x_scaled = (x - mu) / sigma  # 표준화\n",
        "print(x_scaled)"
      ],
      "metadata": {
        "colab": {
          "base_uri": "https://localhost:8080/"
        },
        "id": "PX0SrTXvIePY",
        "outputId": "7827fce8-74ca-4151-f179-9fabbef5895f"
      },
      "execution_count": null,
      "outputs": [
        {
          "output_type": "stream",
          "name": "stdout",
          "text": [
            "[-1.41421356 -0.70710678  0.          0.70710678  1.41421356]\n"
          ]
        }
      ]
    },
    {
      "cell_type": "code",
      "source": [
        "np.mean(x_scaled)"
      ],
      "metadata": {
        "colab": {
          "base_uri": "https://localhost:8080/"
        },
        "id": "n-35S9zgIhOc",
        "outputId": "88512354-095d-4806-bb52-0b9959937389"
      },
      "execution_count": null,
      "outputs": [
        {
          "output_type": "execute_result",
          "data": {
            "text/plain": [
              "0.0"
            ]
          },
          "metadata": {},
          "execution_count": 108
        }
      ]
    },
    {
      "cell_type": "code",
      "source": [
        "np.mean(x_scaled)"
      ],
      "metadata": {
        "colab": {
          "base_uri": "https://localhost:8080/"
        },
        "id": "00sq5BdVIhQ9",
        "outputId": "29a7c633-3298-4ff2-f3df-08e9b6a0f370"
      },
      "execution_count": null,
      "outputs": [
        {
          "output_type": "execute_result",
          "data": {
            "text/plain": [
              "0.0"
            ]
          },
          "metadata": {},
          "execution_count": 109
        }
      ]
    },
    {
      "cell_type": "markdown",
      "source": [
        "### 정규화"
      ],
      "metadata": {
        "id": "BjXeBdP-IpMg"
      }
    },
    {
      "cell_type": "code",
      "source": [
        "xmin = np.min(x)\n",
        "xmax = np.max(x)\n",
        "print(xmin, xmax)"
      ],
      "metadata": {
        "colab": {
          "base_uri": "https://localhost:8080/"
        },
        "id": "mef7UA4kIqQW",
        "outputId": "e8da8a0b-b6d0-4f90-e37b-43aca75ea289"
      },
      "execution_count": null,
      "outputs": [
        {
          "output_type": "stream",
          "name": "stdout",
          "text": [
            "1 5\n"
          ]
        }
      ]
    },
    {
      "cell_type": "code",
      "source": [
        "x_normalized = (x - xmin) / (xmax - xmin)  # 정규화\n",
        "print(x_normalized)"
      ],
      "metadata": {
        "colab": {
          "base_uri": "https://localhost:8080/"
        },
        "id": "av3F2sSDIr77",
        "outputId": "431f3528-a374-49bf-ce96-32563ce3fd57"
      },
      "execution_count": null,
      "outputs": [
        {
          "output_type": "stream",
          "name": "stdout",
          "text": [
            "[0.   0.25 0.5  0.75 1.  ]\n"
          ]
        }
      ]
    },
    {
      "cell_type": "markdown",
      "source": [
        "### 2차원 배열의 표준화, 정규화"
      ],
      "metadata": {
        "id": "1GiYjXRbIv8n"
      }
    },
    {
      "cell_type": "code",
      "source": [
        "x = np.arange(1, 7).reshape((3, -1))  # (3, 2) 2d-array\n",
        "print(x)"
      ],
      "metadata": {
        "colab": {
          "base_uri": "https://localhost:8080/"
        },
        "id": "5Hn2MHnwIxTM",
        "outputId": "711a88a6-adba-4578-e933-aa1e4e575fbd"
      },
      "execution_count": null,
      "outputs": [
        {
          "output_type": "stream",
          "name": "stdout",
          "text": [
            "[[1 2]\n",
            " [3 4]\n",
            " [5 6]]\n"
          ]
        }
      ]
    },
    {
      "cell_type": "markdown",
      "source": [
        "2차원 배열 x를 axis=0 방향으로 표준화, 정규화"
      ],
      "metadata": {
        "id": "KatGvZEqIydD"
      }
    },
    {
      "cell_type": "code",
      "source": [
        "mu = np.mean(x, axis=0)\n",
        "print(mu)\n",
        "sigma = np.std(x, axis=0)\n",
        "print(sigma)"
      ],
      "metadata": {
        "colab": {
          "base_uri": "https://localhost:8080/"
        },
        "id": "42dxuxt9I0PQ",
        "outputId": "48053742-feb7-4bec-aabf-2b99c09f9483"
      },
      "execution_count": null,
      "outputs": [
        {
          "output_type": "stream",
          "name": "stdout",
          "text": [
            "[3. 4.]\n",
            "[1.63299316 1.63299316]\n"
          ]
        }
      ]
    },
    {
      "cell_type": "code",
      "source": [
        "x_scaled = (x - mu) / sigma\n",
        "print(x_scaled)"
      ],
      "metadata": {
        "colab": {
          "base_uri": "https://localhost:8080/"
        },
        "id": "-2yHxr_cI0TC",
        "outputId": "bba54357-6b6e-48ba-a3bd-8fdcdfd92e99"
      },
      "execution_count": null,
      "outputs": [
        {
          "output_type": "stream",
          "name": "stdout",
          "text": [
            "[[-1.22474487 -1.22474487]\n",
            " [ 0.          0.        ]\n",
            " [ 1.22474487  1.22474487]]\n"
          ]
        }
      ]
    },
    {
      "cell_type": "code",
      "source": [
        "xmax = np.max(x, axis=0)\n",
        "print(xmax)\n",
        "xmin = np.min(x, axis=0)\n",
        "print(xmin)"
      ],
      "metadata": {
        "colab": {
          "base_uri": "https://localhost:8080/"
        },
        "id": "uJuTVmJXI0Wu",
        "outputId": "88297c35-7e06-4508-9971-7d85790a4a84"
      },
      "execution_count": null,
      "outputs": [
        {
          "output_type": "stream",
          "name": "stdout",
          "text": [
            "[5 6]\n",
            "[1 2]\n"
          ]
        }
      ]
    },
    {
      "cell_type": "code",
      "source": [
        "x_normalized = (x - xmin) / (xmax - xmin)\n",
        "print(x_normalized)"
      ],
      "metadata": {
        "colab": {
          "base_uri": "https://localhost:8080/"
        },
        "id": "bxeDsbwzI0Zj",
        "outputId": "d9a06446-c115-494a-c13a-39ac8035b650"
      },
      "execution_count": null,
      "outputs": [
        {
          "output_type": "stream",
          "name": "stdout",
          "text": [
            "[[0.  0. ]\n",
            " [0.5 0.5]\n",
            " [1.  1. ]]\n"
          ]
        }
      ]
    },
    {
      "cell_type": "markdown",
      "source": [
        "배열 x를 axis=1 방향으로 표준화, 정규화"
      ],
      "metadata": {
        "id": "7x6fDrHlI5NI"
      }
    },
    {
      "cell_type": "code",
      "source": [
        "mu = np.mean(x, axis=1, keepdims=True)\n",
        "print(mu)"
      ],
      "metadata": {
        "colab": {
          "base_uri": "https://localhost:8080/"
        },
        "id": "K1bIMvsNI3YN",
        "outputId": "4362b018-c679-4a93-87fb-7b8a1d4955fd"
      },
      "execution_count": null,
      "outputs": [
        {
          "output_type": "stream",
          "name": "stdout",
          "text": [
            "[[1.5]\n",
            " [3.5]\n",
            " [5.5]]\n"
          ]
        }
      ]
    },
    {
      "cell_type": "code",
      "source": [
        "sigma = np.std(x, axis=1, keepdims=True)\n",
        "print(sigma)"
      ],
      "metadata": {
        "colab": {
          "base_uri": "https://localhost:8080/"
        },
        "id": "UFjjvhc8I3dV",
        "outputId": "6bd947eb-c4a8-4ceb-c43e-a697ef195269"
      },
      "execution_count": null,
      "outputs": [
        {
          "output_type": "stream",
          "name": "stdout",
          "text": [
            "[[0.5]\n",
            " [0.5]\n",
            " [0.5]]\n"
          ]
        }
      ]
    },
    {
      "cell_type": "code",
      "source": [
        "x_scaled = (x - mu) / sigma\n",
        "print(x_scaled)"
      ],
      "metadata": {
        "colab": {
          "base_uri": "https://localhost:8080/"
        },
        "id": "07fUi56vI3fO",
        "outputId": "0a7923e6-9633-4ad7-e5c3-282cfa78c6fe"
      },
      "execution_count": null,
      "outputs": [
        {
          "output_type": "stream",
          "name": "stdout",
          "text": [
            "[[-1.  1.]\n",
            " [-1.  1.]\n",
            " [-1.  1.]]\n"
          ]
        }
      ]
    }
  ]
}